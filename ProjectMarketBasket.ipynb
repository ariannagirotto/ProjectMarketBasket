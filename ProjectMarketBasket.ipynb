{
  "nbformat": 4,
  "nbformat_minor": 0,
  "metadata": {
    "colab": {
      "provenance": [],
      "toc_visible": true
    },
    "kernelspec": {
      "name": "python3",
      "display_name": "Python 3"
    },
    "language_info": {
      "name": "python"
    },
    "widgets": {
      "application/vnd.jupyter.widget-state+json": {
        "b7746ec774c54be488ca06bb91b6e895": {
          "model_module": "@jupyter-widgets/controls",
          "model_name": "HBoxModel",
          "model_module_version": "1.5.0",
          "state": {
            "_dom_classes": [],
            "_model_module": "@jupyter-widgets/controls",
            "_model_module_version": "1.5.0",
            "_model_name": "HBoxModel",
            "_view_count": null,
            "_view_module": "@jupyter-widgets/controls",
            "_view_module_version": "1.5.0",
            "_view_name": "HBoxView",
            "box_style": "",
            "children": [
              "IPY_MODEL_db49ae80152842e9a402d7873cc525d1",
              "IPY_MODEL_aaf3eef61e3543319eb98d8f25987fdf",
              "IPY_MODEL_f598cca53bb24ba9a8c09a4900b8d497"
            ],
            "layout": "IPY_MODEL_6344f265618e4a52b1c5e56134336c9b"
          }
        },
        "db49ae80152842e9a402d7873cc525d1": {
          "model_module": "@jupyter-widgets/controls",
          "model_name": "HTMLModel",
          "model_module_version": "1.5.0",
          "state": {
            "_dom_classes": [],
            "_model_module": "@jupyter-widgets/controls",
            "_model_module_version": "1.5.0",
            "_model_name": "HTMLModel",
            "_view_count": null,
            "_view_module": "@jupyter-widgets/controls",
            "_view_module_version": "1.5.0",
            "_view_name": "HTMLView",
            "description": "",
            "description_tooltip": null,
            "layout": "IPY_MODEL_ea9f7cdf008d4804bf9da3f975768bf9",
            "placeholder": "​",
            "style": "IPY_MODEL_a53327626cc84a9992fb5be394897d1c",
            "value": "Pandas Apply: 100%"
          }
        },
        "aaf3eef61e3543319eb98d8f25987fdf": {
          "model_module": "@jupyter-widgets/controls",
          "model_name": "FloatProgressModel",
          "model_module_version": "1.5.0",
          "state": {
            "_dom_classes": [],
            "_model_module": "@jupyter-widgets/controls",
            "_model_module_version": "1.5.0",
            "_model_name": "FloatProgressModel",
            "_view_count": null,
            "_view_module": "@jupyter-widgets/controls",
            "_view_module_version": "1.5.0",
            "_view_name": "ProgressView",
            "bar_style": "success",
            "description": "",
            "description_tooltip": null,
            "layout": "IPY_MODEL_7ec79a3ef27f4e4e9acdbc1fefc3f5fa",
            "max": 449999,
            "min": 0,
            "orientation": "horizontal",
            "style": "IPY_MODEL_f44ef7616d88419d827cbdbc696eb879",
            "value": 449999
          }
        },
        "f598cca53bb24ba9a8c09a4900b8d497": {
          "model_module": "@jupyter-widgets/controls",
          "model_name": "HTMLModel",
          "model_module_version": "1.5.0",
          "state": {
            "_dom_classes": [],
            "_model_module": "@jupyter-widgets/controls",
            "_model_module_version": "1.5.0",
            "_model_name": "HTMLModel",
            "_view_count": null,
            "_view_module": "@jupyter-widgets/controls",
            "_view_module_version": "1.5.0",
            "_view_name": "HTMLView",
            "description": "",
            "description_tooltip": null,
            "layout": "IPY_MODEL_e6cbff4d7d964b64a8844d9a4e06ded4",
            "placeholder": "​",
            "style": "IPY_MODEL_a41e86c0e10b4d65a8add95ac2e4563e",
            "value": " 449999/449999 [00:57&lt;00:00, 5571.19it/s]"
          }
        },
        "6344f265618e4a52b1c5e56134336c9b": {
          "model_module": "@jupyter-widgets/base",
          "model_name": "LayoutModel",
          "model_module_version": "1.2.0",
          "state": {
            "_model_module": "@jupyter-widgets/base",
            "_model_module_version": "1.2.0",
            "_model_name": "LayoutModel",
            "_view_count": null,
            "_view_module": "@jupyter-widgets/base",
            "_view_module_version": "1.2.0",
            "_view_name": "LayoutView",
            "align_content": null,
            "align_items": null,
            "align_self": null,
            "border": null,
            "bottom": null,
            "display": null,
            "flex": null,
            "flex_flow": null,
            "grid_area": null,
            "grid_auto_columns": null,
            "grid_auto_flow": null,
            "grid_auto_rows": null,
            "grid_column": null,
            "grid_gap": null,
            "grid_row": null,
            "grid_template_areas": null,
            "grid_template_columns": null,
            "grid_template_rows": null,
            "height": null,
            "justify_content": null,
            "justify_items": null,
            "left": null,
            "margin": null,
            "max_height": null,
            "max_width": null,
            "min_height": null,
            "min_width": null,
            "object_fit": null,
            "object_position": null,
            "order": null,
            "overflow": null,
            "overflow_x": null,
            "overflow_y": null,
            "padding": null,
            "right": null,
            "top": null,
            "visibility": null,
            "width": null
          }
        },
        "ea9f7cdf008d4804bf9da3f975768bf9": {
          "model_module": "@jupyter-widgets/base",
          "model_name": "LayoutModel",
          "model_module_version": "1.2.0",
          "state": {
            "_model_module": "@jupyter-widgets/base",
            "_model_module_version": "1.2.0",
            "_model_name": "LayoutModel",
            "_view_count": null,
            "_view_module": "@jupyter-widgets/base",
            "_view_module_version": "1.2.0",
            "_view_name": "LayoutView",
            "align_content": null,
            "align_items": null,
            "align_self": null,
            "border": null,
            "bottom": null,
            "display": null,
            "flex": null,
            "flex_flow": null,
            "grid_area": null,
            "grid_auto_columns": null,
            "grid_auto_flow": null,
            "grid_auto_rows": null,
            "grid_column": null,
            "grid_gap": null,
            "grid_row": null,
            "grid_template_areas": null,
            "grid_template_columns": null,
            "grid_template_rows": null,
            "height": null,
            "justify_content": null,
            "justify_items": null,
            "left": null,
            "margin": null,
            "max_height": null,
            "max_width": null,
            "min_height": null,
            "min_width": null,
            "object_fit": null,
            "object_position": null,
            "order": null,
            "overflow": null,
            "overflow_x": null,
            "overflow_y": null,
            "padding": null,
            "right": null,
            "top": null,
            "visibility": null,
            "width": null
          }
        },
        "a53327626cc84a9992fb5be394897d1c": {
          "model_module": "@jupyter-widgets/controls",
          "model_name": "DescriptionStyleModel",
          "model_module_version": "1.5.0",
          "state": {
            "_model_module": "@jupyter-widgets/controls",
            "_model_module_version": "1.5.0",
            "_model_name": "DescriptionStyleModel",
            "_view_count": null,
            "_view_module": "@jupyter-widgets/base",
            "_view_module_version": "1.2.0",
            "_view_name": "StyleView",
            "description_width": ""
          }
        },
        "7ec79a3ef27f4e4e9acdbc1fefc3f5fa": {
          "model_module": "@jupyter-widgets/base",
          "model_name": "LayoutModel",
          "model_module_version": "1.2.0",
          "state": {
            "_model_module": "@jupyter-widgets/base",
            "_model_module_version": "1.2.0",
            "_model_name": "LayoutModel",
            "_view_count": null,
            "_view_module": "@jupyter-widgets/base",
            "_view_module_version": "1.2.0",
            "_view_name": "LayoutView",
            "align_content": null,
            "align_items": null,
            "align_self": null,
            "border": null,
            "bottom": null,
            "display": null,
            "flex": null,
            "flex_flow": null,
            "grid_area": null,
            "grid_auto_columns": null,
            "grid_auto_flow": null,
            "grid_auto_rows": null,
            "grid_column": null,
            "grid_gap": null,
            "grid_row": null,
            "grid_template_areas": null,
            "grid_template_columns": null,
            "grid_template_rows": null,
            "height": null,
            "justify_content": null,
            "justify_items": null,
            "left": null,
            "margin": null,
            "max_height": null,
            "max_width": null,
            "min_height": null,
            "min_width": null,
            "object_fit": null,
            "object_position": null,
            "order": null,
            "overflow": null,
            "overflow_x": null,
            "overflow_y": null,
            "padding": null,
            "right": null,
            "top": null,
            "visibility": null,
            "width": null
          }
        },
        "f44ef7616d88419d827cbdbc696eb879": {
          "model_module": "@jupyter-widgets/controls",
          "model_name": "ProgressStyleModel",
          "model_module_version": "1.5.0",
          "state": {
            "_model_module": "@jupyter-widgets/controls",
            "_model_module_version": "1.5.0",
            "_model_name": "ProgressStyleModel",
            "_view_count": null,
            "_view_module": "@jupyter-widgets/base",
            "_view_module_version": "1.2.0",
            "_view_name": "StyleView",
            "bar_color": null,
            "description_width": ""
          }
        },
        "e6cbff4d7d964b64a8844d9a4e06ded4": {
          "model_module": "@jupyter-widgets/base",
          "model_name": "LayoutModel",
          "model_module_version": "1.2.0",
          "state": {
            "_model_module": "@jupyter-widgets/base",
            "_model_module_version": "1.2.0",
            "_model_name": "LayoutModel",
            "_view_count": null,
            "_view_module": "@jupyter-widgets/base",
            "_view_module_version": "1.2.0",
            "_view_name": "LayoutView",
            "align_content": null,
            "align_items": null,
            "align_self": null,
            "border": null,
            "bottom": null,
            "display": null,
            "flex": null,
            "flex_flow": null,
            "grid_area": null,
            "grid_auto_columns": null,
            "grid_auto_flow": null,
            "grid_auto_rows": null,
            "grid_column": null,
            "grid_gap": null,
            "grid_row": null,
            "grid_template_areas": null,
            "grid_template_columns": null,
            "grid_template_rows": null,
            "height": null,
            "justify_content": null,
            "justify_items": null,
            "left": null,
            "margin": null,
            "max_height": null,
            "max_width": null,
            "min_height": null,
            "min_width": null,
            "object_fit": null,
            "object_position": null,
            "order": null,
            "overflow": null,
            "overflow_x": null,
            "overflow_y": null,
            "padding": null,
            "right": null,
            "top": null,
            "visibility": null,
            "width": null
          }
        },
        "a41e86c0e10b4d65a8add95ac2e4563e": {
          "model_module": "@jupyter-widgets/controls",
          "model_name": "DescriptionStyleModel",
          "model_module_version": "1.5.0",
          "state": {
            "_model_module": "@jupyter-widgets/controls",
            "_model_module_version": "1.5.0",
            "_model_name": "DescriptionStyleModel",
            "_view_count": null,
            "_view_module": "@jupyter-widgets/base",
            "_view_module_version": "1.2.0",
            "_view_name": "StyleView",
            "description_width": ""
          }
        }
      }
    }
  },
  "cells": [
    {
      "cell_type": "markdown",
      "source": [
        "### **Importing the dataset from Kaggle**"
      ],
      "metadata": {
        "id": "JHowCtgmCC9r"
      }
    },
    {
      "cell_type": "code",
      "execution_count": 2,
      "metadata": {
        "colab": {
          "base_uri": "https://localhost:8080/"
        },
        "id": "JDUk0kQqBTlG",
        "outputId": "bfe6834e-0d30-4a17-987f-b4aaeb64ddbf"
      },
      "outputs": [
        {
          "output_type": "stream",
          "name": "stdout",
          "text": [
            "Dataset URL: https://www.kaggle.com/datasets/mohamedbakhet/amazon-books-reviews\n",
            "License(s): CC0-1.0\n",
            "Downloading amazon-books-reviews.zip to /content\n",
            "100% 1.06G/1.06G [00:05<00:00, 254MB/s]\n",
            "100% 1.06G/1.06G [00:05<00:00, 227MB/s]\n"
          ]
        }
      ],
      "source": [
        "import os\n",
        "os.environ['KAGGLE_USERNAME'] = \"xxxxxx\"\n",
        "os.environ['KAGGLE_KEY'] = \"xxxxxx\"\n",
        "!kaggle datasets download -d mohamedbakhet/amazon-books-reviews"
      ]
    },
    {
      "cell_type": "markdown",
      "source": [
        "### **Unzipping the files**"
      ],
      "metadata": {
        "id": "tMU0-2h5CNeG"
      }
    },
    {
      "cell_type": "code",
      "source": [
        "!unzip amazon-books-reviews.zip -d /content/amazon_books/"
      ],
      "metadata": {
        "colab": {
          "base_uri": "https://localhost:8080/"
        },
        "id": "Grk0ZJVlBxvo",
        "outputId": "6ddb367d-eacb-4d35-cd98-f1001fefae7b"
      },
      "execution_count": 3,
      "outputs": [
        {
          "output_type": "stream",
          "name": "stdout",
          "text": [
            "Archive:  amazon-books-reviews.zip\n",
            "  inflating: /content/amazon_books/Books_rating.csv  \n",
            "  inflating: /content/amazon_books/books_data.csv  \n"
          ]
        }
      ]
    },
    {
      "cell_type": "markdown",
      "source": [
        "### **Installing the dipendencies and importing them**"
      ],
      "metadata": {
        "id": "f68sGmSICax5"
      }
    },
    {
      "cell_type": "code",
      "source": [
        "!pip install python-dotenv kaggle pandas swifter nltk matplotlib"
      ],
      "metadata": {
        "colab": {
          "base_uri": "https://localhost:8080/"
        },
        "collapsed": true,
        "id": "Mr4MQRjLCl-T",
        "outputId": "e4a50604-988b-409a-9d57-3900978fdda2"
      },
      "execution_count": 4,
      "outputs": [
        {
          "output_type": "stream",
          "name": "stdout",
          "text": [
            "Requirement already satisfied: python-dotenv in /usr/local/lib/python3.12/dist-packages (1.1.1)\n",
            "Requirement already satisfied: kaggle in /usr/local/lib/python3.12/dist-packages (1.7.4.5)\n",
            "Requirement already satisfied: pandas in /usr/local/lib/python3.12/dist-packages (2.2.2)\n",
            "Collecting swifter\n",
            "  Downloading swifter-1.4.0.tar.gz (1.2 MB)\n",
            "\u001b[2K     \u001b[90m━━━━━━━━━━━━━━━━━━━━━━━━━━━━━━━━━━━━━━━━\u001b[0m \u001b[32m1.2/1.2 MB\u001b[0m \u001b[31m17.0 MB/s\u001b[0m eta \u001b[36m0:00:00\u001b[0m\n",
            "\u001b[?25h  Preparing metadata (setup.py) ... \u001b[?25l\u001b[?25hdone\n",
            "Requirement already satisfied: nltk in /usr/local/lib/python3.12/dist-packages (3.9.1)\n",
            "Requirement already satisfied: matplotlib in /usr/local/lib/python3.12/dist-packages (3.10.0)\n",
            "Requirement already satisfied: bleach in /usr/local/lib/python3.12/dist-packages (from kaggle) (6.2.0)\n",
            "Requirement already satisfied: certifi>=14.05.14 in /usr/local/lib/python3.12/dist-packages (from kaggle) (2025.10.5)\n",
            "Requirement already satisfied: charset-normalizer in /usr/local/lib/python3.12/dist-packages (from kaggle) (3.4.4)\n",
            "Requirement already satisfied: idna in /usr/local/lib/python3.12/dist-packages (from kaggle) (3.11)\n",
            "Requirement already satisfied: protobuf in /usr/local/lib/python3.12/dist-packages (from kaggle) (5.29.5)\n",
            "Requirement already satisfied: python-dateutil>=2.5.3 in /usr/local/lib/python3.12/dist-packages (from kaggle) (2.9.0.post0)\n",
            "Requirement already satisfied: python-slugify in /usr/local/lib/python3.12/dist-packages (from kaggle) (8.0.4)\n",
            "Requirement already satisfied: requests in /usr/local/lib/python3.12/dist-packages (from kaggle) (2.32.4)\n",
            "Requirement already satisfied: setuptools>=21.0.0 in /usr/local/lib/python3.12/dist-packages (from kaggle) (75.2.0)\n",
            "Requirement already satisfied: six>=1.10 in /usr/local/lib/python3.12/dist-packages (from kaggle) (1.17.0)\n",
            "Requirement already satisfied: text-unidecode in /usr/local/lib/python3.12/dist-packages (from kaggle) (1.3)\n",
            "Requirement already satisfied: tqdm in /usr/local/lib/python3.12/dist-packages (from kaggle) (4.67.1)\n",
            "Requirement already satisfied: urllib3>=1.15.1 in /usr/local/lib/python3.12/dist-packages (from kaggle) (2.5.0)\n",
            "Requirement already satisfied: webencodings in /usr/local/lib/python3.12/dist-packages (from kaggle) (0.5.1)\n",
            "Requirement already satisfied: numpy>=1.26.0 in /usr/local/lib/python3.12/dist-packages (from pandas) (2.0.2)\n",
            "Requirement already satisfied: pytz>=2020.1 in /usr/local/lib/python3.12/dist-packages (from pandas) (2025.2)\n",
            "Requirement already satisfied: tzdata>=2022.7 in /usr/local/lib/python3.12/dist-packages (from pandas) (2025.2)\n",
            "Requirement already satisfied: psutil>=5.6.6 in /usr/local/lib/python3.12/dist-packages (from swifter) (5.9.5)\n",
            "Requirement already satisfied: dask>=2.10.0 in /usr/local/lib/python3.12/dist-packages (from dask[dataframe]>=2.10.0->swifter) (2025.5.0)\n",
            "Requirement already satisfied: click in /usr/local/lib/python3.12/dist-packages (from nltk) (8.3.0)\n",
            "Requirement already satisfied: joblib in /usr/local/lib/python3.12/dist-packages (from nltk) (1.5.2)\n",
            "Requirement already satisfied: regex>=2021.8.3 in /usr/local/lib/python3.12/dist-packages (from nltk) (2024.11.6)\n",
            "Requirement already satisfied: contourpy>=1.0.1 in /usr/local/lib/python3.12/dist-packages (from matplotlib) (1.3.3)\n",
            "Requirement already satisfied: cycler>=0.10 in /usr/local/lib/python3.12/dist-packages (from matplotlib) (0.12.1)\n",
            "Requirement already satisfied: fonttools>=4.22.0 in /usr/local/lib/python3.12/dist-packages (from matplotlib) (4.60.1)\n",
            "Requirement already satisfied: kiwisolver>=1.3.1 in /usr/local/lib/python3.12/dist-packages (from matplotlib) (1.4.9)\n",
            "Requirement already satisfied: packaging>=20.0 in /usr/local/lib/python3.12/dist-packages (from matplotlib) (25.0)\n",
            "Requirement already satisfied: pillow>=8 in /usr/local/lib/python3.12/dist-packages (from matplotlib) (11.3.0)\n",
            "Requirement already satisfied: pyparsing>=2.3.1 in /usr/local/lib/python3.12/dist-packages (from matplotlib) (3.2.5)\n",
            "Requirement already satisfied: cloudpickle>=3.0.0 in /usr/local/lib/python3.12/dist-packages (from dask>=2.10.0->dask[dataframe]>=2.10.0->swifter) (3.1.1)\n",
            "Requirement already satisfied: fsspec>=2021.09.0 in /usr/local/lib/python3.12/dist-packages (from dask>=2.10.0->dask[dataframe]>=2.10.0->swifter) (2025.3.0)\n",
            "Requirement already satisfied: partd>=1.4.0 in /usr/local/lib/python3.12/dist-packages (from dask>=2.10.0->dask[dataframe]>=2.10.0->swifter) (1.4.2)\n",
            "Requirement already satisfied: pyyaml>=5.3.1 in /usr/local/lib/python3.12/dist-packages (from dask>=2.10.0->dask[dataframe]>=2.10.0->swifter) (6.0.3)\n",
            "Requirement already satisfied: toolz>=0.10.0 in /usr/local/lib/python3.12/dist-packages (from dask>=2.10.0->dask[dataframe]>=2.10.0->swifter) (0.12.1)\n",
            "Requirement already satisfied: pyarrow>=14.0.1 in /usr/local/lib/python3.12/dist-packages (from dask[dataframe]>=2.10.0->swifter) (18.1.0)\n",
            "Requirement already satisfied: locket in /usr/local/lib/python3.12/dist-packages (from partd>=1.4.0->dask>=2.10.0->dask[dataframe]>=2.10.0->swifter) (1.0.0)\n",
            "Building wheels for collected packages: swifter\n",
            "  Building wheel for swifter (setup.py) ... \u001b[?25l\u001b[?25hdone\n",
            "  Created wheel for swifter: filename=swifter-1.4.0-py3-none-any.whl size=16505 sha256=309f954eadbb03d8441a26ab24f93dad0ee28d9179956921a1c71d81c549f370\n",
            "  Stored in directory: /root/.cache/pip/wheels/d9/31/ff/ff51141a088571a9f672449e5aad5ea8bb35ca5d95ba135f30\n",
            "Successfully built swifter\n",
            "Installing collected packages: swifter\n",
            "Successfully installed swifter-1.4.0\n"
          ]
        }
      ]
    },
    {
      "cell_type": "code",
      "source": [
        "import pandas as pd\n",
        "from itertools import combinations, count\n",
        "from collections import Counter, defaultdict\n",
        "import hashlib\n",
        "import re\n",
        "import swifter\n",
        "import nltk\n",
        "nltk.download('stopwords')\n",
        "from nltk.corpus import stopwords\n",
        "import numpy as np\n",
        "import matplotlib.pyplot as plt\n",
        "import os"
      ],
      "metadata": {
        "colab": {
          "base_uri": "https://localhost:8080/"
        },
        "id": "hUzAZ9RDCrbB",
        "outputId": "b70c474d-e7d7-4ba0-907b-544018ef77a7"
      },
      "execution_count": 1,
      "outputs": [
        {
          "output_type": "stream",
          "name": "stderr",
          "text": [
            "[nltk_data] Downloading package stopwords to /root/nltk_data...\n",
            "[nltk_data]   Package stopwords is already up-to-date!\n"
          ]
        }
      ]
    },
    {
      "cell_type": "markdown",
      "source": [
        "### **Set up of Spark**"
      ],
      "metadata": {
        "id": "SQSzNo1nEtk0"
      }
    },
    {
      "cell_type": "code",
      "source": [
        "!apt-get install openjdk-11-jdk-headless -qq > /dev/null\n",
        "!wget -q https://archive.apache.org/dist/spark/spark-3.5.3/spark-3.5.3-bin-hadoop3.tgz\n",
        "!tar xf spark-3.5.3-bin-hadoop3.tgz"
      ],
      "metadata": {
        "id": "rq0wBty8VSQj"
      },
      "execution_count": 6,
      "outputs": []
    },
    {
      "cell_type": "code",
      "source": [
        "os.environ[\"JAVA_HOME\"] = \"/usr/lib/jvm/java-11-openjdk-amd64\"\n",
        "os.environ[\"SPARK_HOME\"] = \"/content/spark-3.5.3-bin-hadoop3\"\n",
        "os.environ[\"PATH\"] += \":/content/spark-3.5.3-bin-hadoop3/bin\""
      ],
      "metadata": {
        "id": "GuBOR-HwE3Xt"
      },
      "execution_count": 7,
      "outputs": []
    },
    {
      "cell_type": "code",
      "source": [
        "from pyspark.sql import SparkSession\n",
        "\n",
        "spark = SparkSession.builder \\\n",
        "    .master(\"local[*]\") \\\n",
        "    .appName(\"SON Algorithm\") \\\n",
        "    .config(\"spark.driver.memory\", \"4g\") \\\n",
        "    .config(\"spark.executor.memory\", \"4g\") \\\n",
        "    .getOrCreate()\n",
        "\n",
        "sc = spark.sparkContext\n",
        "print(\"Spark version:\", spark.version)"
      ],
      "metadata": {
        "colab": {
          "base_uri": "https://localhost:8080/"
        },
        "id": "SlNukd_bW3mC",
        "outputId": "df3ca546-42e5-463d-841b-7d67bcb6bd24"
      },
      "execution_count": 2,
      "outputs": [
        {
          "output_type": "stream",
          "name": "stdout",
          "text": [
            "Spark version: 3.5.1\n"
          ]
        }
      ]
    },
    {
      "cell_type": "markdown",
      "source": [
        "### **Loading the dataset and exploring it**"
      ],
      "metadata": {
        "id": "eTMAmHzIDZcM"
      }
    },
    {
      "cell_type": "code",
      "source": [
        "data = pd.read_csv(\"/content/amazon_books/Books_rating.csv\")\n",
        "print(data.head())\n",
        "print(data.info())\n"
      ],
      "metadata": {
        "colab": {
          "base_uri": "https://localhost:8080/"
        },
        "id": "0Cvxli99DfUL",
        "outputId": "e701ab29-95e1-4b28-9c0d-5708eb607a79"
      },
      "execution_count": 3,
      "outputs": [
        {
          "output_type": "stream",
          "name": "stdout",
          "text": [
            "           Id                           Title  Price         User_id  \\\n",
            "0  1882931173  Its Only Art If Its Well Hung!    NaN   AVCGYZL8FQQTD   \n",
            "1  0826414346        Dr. Seuss: American Icon    NaN  A30TK6U7DNS82R   \n",
            "2  0826414346        Dr. Seuss: American Icon    NaN  A3UH4UZ4RSVO82   \n",
            "3  0826414346        Dr. Seuss: American Icon    NaN  A2MVUWT453QH61   \n",
            "4  0826414346        Dr. Seuss: American Icon    NaN  A22X4XUPKF66MR   \n",
            "\n",
            "                          profileName review/helpfulness  review/score  \\\n",
            "0               Jim of Oz \"jim-of-oz\"                7/7           4.0   \n",
            "1                       Kevin Killian              10/10           5.0   \n",
            "2                        John Granger              10/11           5.0   \n",
            "3  Roy E. Perry \"amateur philosopher\"                7/7           4.0   \n",
            "4     D. H. Richards \"ninthwavestore\"                3/3           4.0   \n",
            "\n",
            "   review/time                                   review/summary  \\\n",
            "0    940636800           Nice collection of Julie Strain images   \n",
            "1   1095724800                                Really Enjoyed It   \n",
            "2   1078790400  Essential for every personal and Public Library   \n",
            "3   1090713600  Phlip Nel gives silly Seuss a serious treatment   \n",
            "4   1107993600                           Good academic overview   \n",
            "\n",
            "                                         review/text  \n",
            "0  This is only for Julie Strain fans. It's a col...  \n",
            "1  I don't care much for Dr. Seuss but after read...  \n",
            "2  If people become the books they read and if \"t...  \n",
            "3  Theodore Seuss Geisel (1904-1991), aka &quot;D...  \n",
            "4  Philip Nel - Dr. Seuss: American IconThis is b...  \n",
            "<class 'pandas.core.frame.DataFrame'>\n",
            "RangeIndex: 3000000 entries, 0 to 2999999\n",
            "Data columns (total 10 columns):\n",
            " #   Column              Dtype  \n",
            "---  ------              -----  \n",
            " 0   Id                  object \n",
            " 1   Title               object \n",
            " 2   Price               float64\n",
            " 3   User_id             object \n",
            " 4   profileName         object \n",
            " 5   review/helpfulness  object \n",
            " 6   review/score        float64\n",
            " 7   review/time         int64  \n",
            " 8   review/summary      object \n",
            " 9   review/text         object \n",
            "dtypes: float64(2), int64(1), object(7)\n",
            "memory usage: 228.9+ MB\n",
            "None\n"
          ]
        }
      ]
    },
    {
      "cell_type": "markdown",
      "source": [
        "# **Reviews as Baskets and Words as Items**"
      ],
      "metadata": {
        "id": "Hxyeu7KbDMOU"
      }
    },
    {
      "cell_type": "markdown",
      "source": [
        "### **Data Cleaning**"
      ],
      "metadata": {
        "id": "ip7H8pc3D4JP"
      }
    },
    {
      "cell_type": "code",
      "source": [
        "reviews_data_clean = data.copy()\n",
        "\n",
        "reviews_data_clean = reviews_data_clean[['review/text']]\n",
        "\n",
        "print(\"Numbers of NaN for each column:\")\n",
        "print(reviews_data_clean.isna().sum())\n",
        "print(reviews_data_clean.info())\n",
        "\n",
        "reviews_data_clean = reviews_data_clean.dropna()\n",
        "print(\"Rows remaning after the cleaning:\", len(reviews_data_clean))"
      ],
      "metadata": {
        "colab": {
          "base_uri": "https://localhost:8080/"
        },
        "id": "bvDVqr9sD6uH",
        "outputId": "48f5e574-57a6-458d-ef98-3ccf8717059a"
      },
      "execution_count": 4,
      "outputs": [
        {
          "output_type": "stream",
          "name": "stdout",
          "text": [
            "Numbers of NaN for each column:\n",
            "review/text    8\n",
            "dtype: int64\n",
            "<class 'pandas.core.frame.DataFrame'>\n",
            "RangeIndex: 3000000 entries, 0 to 2999999\n",
            "Data columns (total 1 columns):\n",
            " #   Column       Dtype \n",
            "---  ------       ----- \n",
            " 0   review/text  object\n",
            "dtypes: object(1)\n",
            "memory usage: 22.9+ MB\n",
            "None\n",
            "Rows remaning after the cleaning: 2999992\n"
          ]
        }
      ]
    },
    {
      "cell_type": "markdown",
      "source": [
        "### **Setting the Global Variables**"
      ],
      "metadata": {
        "id": "KvpCCyKA7NSr"
      }
    },
    {
      "cell_type": "code",
      "source": [
        "USE_SUBSAMPLE = True\n",
        "SUBSAMPLE_FRACTION = 0.15\n",
        "RELATIVE_SUPPORT = 0.1\n",
        "MAX_K = 3"
      ],
      "metadata": {
        "id": "NzWxE8N37SCk"
      },
      "execution_count": 5,
      "outputs": []
    },
    {
      "cell_type": "markdown",
      "source": [
        "### **Subsampling the Data**"
      ],
      "metadata": {
        "id": "1HQvoMoh7bvD"
      }
    },
    {
      "cell_type": "code",
      "source": [
        "df_reviews = reviews_data_clean.copy()\n",
        "\n",
        "if USE_SUBSAMPLE:\n",
        "    df_reviews = df_reviews.sample(frac=SUBSAMPLE_FRACTION, random_state=42)\n",
        "    print(f\"Subsample of the dataset ({len(df_reviews)}, {SUBSAMPLE_FRACTION*100:.1f}%)\")\n",
        "else:\n",
        "    print(f\"Entire dataset ({len(df_reviews)} )\")"
      ],
      "metadata": {
        "colab": {
          "base_uri": "https://localhost:8080/"
        },
        "id": "CTPGRZmr7e3k",
        "outputId": "14ec1542-780b-4b56-d567-de96fdfcd823"
      },
      "execution_count": 6,
      "outputs": [
        {
          "output_type": "stream",
          "name": "stdout",
          "text": [
            "Subsample of the dataset (449999, 15.0%)\n"
          ]
        }
      ]
    },
    {
      "cell_type": "markdown",
      "source": [
        "### **Tokenization**"
      ],
      "metadata": {
        "id": "ffTluaT8EGjs"
      }
    },
    {
      "cell_type": "code",
      "source": [
        "def tokenize_text(text):\n",
        "    text = text.lower()\n",
        "    tokens = text.split()\n",
        "    tokens = [t for t in tokens if t not in stop_words and t.strip() != '']\n",
        "    tokens = [re.sub(r'[^\\w\\s]', '', t) for t in tokens]\n",
        "    tokens = [t for t in tokens if t != '']\n",
        "    return tokens\n",
        "\n",
        "\n",
        "stop_words = set(stopwords.words('english'))\n",
        "\n",
        "reviews_data_clean_sub = df_reviews.copy()\n",
        "\n",
        "reviews_data_clean_sub['tokens'] = reviews_data_clean_sub['review/text'].astype(str).swifter.apply(tokenize_text)\n",
        "print(reviews_data_clean_sub.head())"
      ],
      "metadata": {
        "colab": {
          "base_uri": "https://localhost:8080/",
          "height": 270,
          "referenced_widgets": [
            "b7746ec774c54be488ca06bb91b6e895",
            "db49ae80152842e9a402d7873cc525d1",
            "aaf3eef61e3543319eb98d8f25987fdf",
            "f598cca53bb24ba9a8c09a4900b8d497",
            "6344f265618e4a52b1c5e56134336c9b",
            "ea9f7cdf008d4804bf9da3f975768bf9",
            "a53327626cc84a9992fb5be394897d1c",
            "7ec79a3ef27f4e4e9acdbc1fefc3f5fa",
            "f44ef7616d88419d827cbdbc696eb879",
            "e6cbff4d7d964b64a8844d9a4e06ded4",
            "a41e86c0e10b4d65a8add95ac2e4563e"
          ]
        },
        "id": "B5_OxXWtEIvk",
        "outputId": "38127b02-4603-4037-8052-f13ab75ab3eb"
      },
      "execution_count": 7,
      "outputs": [
        {
          "output_type": "display_data",
          "data": {
            "text/plain": [
              "Pandas Apply:   0%|          | 0/449999 [00:00<?, ?it/s]"
            ],
            "application/vnd.jupyter.widget-view+json": {
              "version_major": 2,
              "version_minor": 0,
              "model_id": "b7746ec774c54be488ca06bb91b6e895"
            }
          },
          "metadata": {}
        },
        {
          "output_type": "stream",
          "name": "stdout",
          "text": [
            "                                               review/text  \\\n",
            "2920649  This book is a prime example of how horribly w...   \n",
            "2352586  Extremely disappointed by the SHORT length and...   \n",
            "908220   I will openly admit that I have never seen the...   \n",
            "1542097  I loved this book so much that I selected it a...   \n",
            "2297506  Perhaps the best book on the market for passin...   \n",
            "\n",
            "                                                    tokens  \n",
            "2920649  [book, prime, example, horribly, written, deep...  \n",
            "2352586  [extremely, disappointed, short, length, curso...  \n",
            "908220   [openly, admit, never, seen, punch, judy, stor...  \n",
            "1542097  [loved, book, much, selected, first, choice, b...  \n",
            "2297506  [perhaps, best, book, market, passing, pmp, ex...  \n"
          ]
        }
      ]
    },
    {
      "cell_type": "markdown",
      "source": [
        "### **Creation of the Baskets**"
      ],
      "metadata": {
        "id": "VD6_hRz1EVLp"
      }
    },
    {
      "cell_type": "code",
      "source": [
        "baskets_rdd = spark.sparkContext.parallelize(\n",
        "   reviews_data_clean_sub['tokens'].tolist()).map(lambda toks: set(toks))\n",
        "\n",
        "total_baskets = baskets_rdd.count()\n",
        "support_threshold = int(total_baskets * RELATIVE_SUPPORT)\n",
        "\n",
        "print(f\"Number of total baskets: {total_baskets}\")\n",
        "print(f\"Relative support: {RELATIVE_SUPPORT*100:.1f}% \")"
      ],
      "metadata": {
        "colab": {
          "base_uri": "https://localhost:8080/"
        },
        "id": "Pr9lAfrA8XYV",
        "outputId": "49af405c-e83d-4b65-a133-80559038dc83"
      },
      "execution_count": 8,
      "outputs": [
        {
          "output_type": "stream",
          "name": "stdout",
          "text": [
            "Number of total baskets: 449999\n",
            "Relative support: 10.0% \n"
          ]
        }
      ]
    },
    {
      "cell_type": "markdown",
      "source": [
        "### **The Algorithm of Savasere, Omiecinski, and Navathe**"
      ],
      "metadata": {
        "id": "wDdQO5uxvG5u"
      }
    },
    {
      "cell_type": "code",
      "source": [
        "def apriori_partition(partition, support_threshold, total_baskets, max_k=3):\n",
        "    baskets = list(partition)\n",
        "    if not baskets:\n",
        "        return []\n",
        "\n",
        "    p = len(baskets) / total_baskets\n",
        "    local_support = max(1, int(support_threshold * p))\n",
        "\n",
        "    item_counts = Counter()\n",
        "    for basket in baskets:\n",
        "        item_counts.update(basket)\n",
        "    freq_items = {frozenset([i]) for i, c in item_counts.items() if c >= local_support}\n",
        "\n",
        "    all_frequents = list(freq_items)\n",
        "    current_freq = freq_items\n",
        "    k = 2\n",
        "\n",
        "    while current_freq and k <= max_k:\n",
        "        candidates = set([\n",
        "            i1 | i2 for i1 in current_freq for i2 in current_freq\n",
        "            if len(i1 | i2) == k\n",
        "        ])\n",
        "        candidate_counts = Counter()\n",
        "        for basket in baskets:\n",
        "            for cand in candidates:\n",
        "                if cand.issubset(basket):\n",
        "                    candidate_counts[cand] += 1\n",
        "        current_freq = {c for c, count in candidate_counts.items() if count >= local_support}\n",
        "        all_frequents.extend(current_freq)\n",
        "        k += 1\n",
        "\n",
        "    return all_frequents\n",
        "\n",
        "\n",
        "candidates = (baskets_rdd\n",
        "    .mapPartitions(lambda partition: apriori_partition(partition, support_threshold, total_baskets, MAX_K))\n",
        "    .distinct()\n",
        "    .collect()\n",
        ")\n",
        "\n",
        "\n",
        "def count_candidates(basket, candidates):\n",
        "    basket_counts = []\n",
        "    for cand in candidates:\n",
        "        if cand.issubset(basket):\n",
        "            basket_counts.append((cand, 1))\n",
        "    return basket_counts\n",
        "\n",
        "candidate_counts = (baskets_rdd\n",
        "    .flatMap(lambda basket: count_candidates(basket, candidates))\n",
        "    .reduceByKey(lambda x, y: x + y)\n",
        "    .filter(lambda x: x[1] >= support_threshold)\n",
        ")\n"
      ],
      "metadata": {
        "collapsed": true,
        "id": "H2NdFDzr4W0S"
      },
      "execution_count": 9,
      "outputs": []
    },
    {
      "cell_type": "markdown",
      "source": [
        "### **Experimental Results**"
      ],
      "metadata": {
        "id": "qaL_it7i0pPG"
      }
    },
    {
      "cell_type": "code",
      "source": [
        "num_frequents = candidate_counts.count()\n",
        "\n",
        "print(f\"Total baskets: {total_baskets}\")\n",
        "print(f\"Number of candidates {len(candidates)}\")\n",
        "print(f\"Relative support: {RELATIVE_SUPPORT*100:.1f}%\")\n",
        "print(f\"Total frequent itemsets: {num_frequents}\\n\")\n",
        "\n",
        "sample_results = candidate_counts.take(20)\n",
        "print(\"First 20 frequent itemsets\")\n",
        "for itemset, count in sample_results:\n",
        "    rel_sup = count / total_baskets\n",
        "    print(f\"{set(itemset)} : {count}\")\n",
        "\n",
        "output_path = f\"/content/output_frequent_itemsets/{SUBSAMPLE_FRACTION}_{RELATIVE_SUPPORT}\"\n",
        "candidate_counts.saveAsTextFile(output_path)\n",
        "print(f\"All results are saved in: {output_path}\")"
      ],
      "metadata": {
        "colab": {
          "base_uri": "https://localhost:8080/"
        },
        "id": "xi6zMdPz9J-G",
        "outputId": "463a0e2b-c4b9-4f9f-f2b0-5466a05ba050"
      },
      "execution_count": 10,
      "outputs": [
        {
          "output_type": "stream",
          "name": "stdout",
          "text": [
            "Total baskets: 449999\n",
            "Number of candidates 100\n",
            "Relative support: 10.0%\n",
            "Total frequent itemsets: 100\n",
            "\n",
            "First 20 frequent itemsets\n",
            "{'one'} : 162744\n",
            "{'read', 'first'} : 50901\n",
            "{'could'} : 60566\n",
            "{'find'} : 56159\n",
            "{'book', 'love'} : 50522\n",
            "{'new'} : 51706\n",
            "{'well'} : 79682\n",
            "{'really', 'book'} : 60922\n",
            "{'it'} : 93586\n",
            "{'books', 'read', 'book'} : 47207\n",
            "{'even'} : 73307\n",
            "{'book', 'like'} : 93253\n",
            "{'many', 'read'} : 45002\n",
            "{'recommend'} : 48774\n",
            "{'little'} : 51473\n",
            "{'read'} : 205383\n",
            "{'book', 'like', 'one'} : 46523\n",
            "{'time', 'read'} : 54375\n",
            "{'books', 'one'} : 53887\n",
            "{'would', 'one'} : 50829\n",
            "{'way'} : 69626\n",
            "{'would', 'read'} : 55724\n",
            "{'like', 'read'} : 61317\n",
            "{'get', 'book'} : 58065\n",
            "{'reading'} : 91692\n",
            "{'good'} : 97629\n",
            "{'much', 'book'} : 66641\n",
            "{'people', 'book'} : 56971\n",
            "{'book', 'like', 'read'} : 53240\n",
            "{'time', 'one'} : 49352\n",
            "{'book', 'many'} : 68532\n",
            "{'book', 'time'} : 76910\n",
            "{'book', 'written'} : 47743\n",
            "{'books', 'read'} : 56798\n",
            "{'great'} : 96730\n",
            "{'book', 'also'} : 64536\n",
            "{'book', 'would', 'read'} : 49050\n",
            "{'think'} : 60334\n",
            "{'found'} : 51111\n",
            "{'book', 'would'} : 86831\n",
            "{'book', 'life'} : 60774\n",
            "{'never'} : 51971\n",
            "{'like', 'one'} : 55676\n",
            "{'book', 'time', 'read'} : 46217\n",
            "{'book', 'first'} : 70142\n",
            "{'story'} : 106033\n",
            "{'book', 'characters'} : 51212\n",
            "{'know'} : 56414\n",
            "{'books', 'book'} : 75032\n",
            "{'book'} : 336520\n",
            "All results are saved in: /content/output_frequent_itemsets/0.15_0.1\n"
          ]
        }
      ]
    },
    {
      "cell_type": "markdown",
      "source": [
        "# **Users as Baskets and Books as Items**"
      ],
      "metadata": {
        "id": "h6Ovq2z-vEz6"
      }
    },
    {
      "cell_type": "markdown",
      "source": [
        "### **Data Cleaning**"
      ],
      "metadata": {
        "id": "ttHBDnbnvaum"
      }
    },
    {
      "cell_type": "code",
      "source": [
        "book_data_clean = data.copy()\n",
        "\n",
        "book_data_clean = book_data_clean[['Title', 'User_id']]\n",
        "\n",
        "print(\"Numbers of NaN for each column:\")\n",
        "print(book_data_clean.isna().sum())\n",
        "print(book_data_clean.info())\n",
        "\n",
        "book_data_clean = book_data_clean.dropna()\n",
        "print(\"Rows remaning after the cleaning:\", len(book_data_clean))"
      ],
      "metadata": {
        "colab": {
          "base_uri": "https://localhost:8080/"
        },
        "id": "vLUYdbMSvgWg",
        "outputId": "779bc785-c769-42a6-b38f-97d03971a6a4"
      },
      "execution_count": 11,
      "outputs": [
        {
          "output_type": "stream",
          "name": "stdout",
          "text": [
            "Numbers of NaN for each column:\n",
            "Title         208\n",
            "User_id    561787\n",
            "dtype: int64\n",
            "<class 'pandas.core.frame.DataFrame'>\n",
            "RangeIndex: 3000000 entries, 0 to 2999999\n",
            "Data columns (total 2 columns):\n",
            " #   Column   Dtype \n",
            "---  ------   ----- \n",
            " 0   Title    object\n",
            " 1   User_id  object\n",
            "dtypes: object(2)\n",
            "memory usage: 45.8+ MB\n",
            "None\n",
            "Rows remaning after the cleaning: 2438018\n"
          ]
        }
      ]
    },
    {
      "cell_type": "markdown",
      "source": [
        "### **Normalization of the Title**"
      ],
      "metadata": {
        "id": "Xu9n6F7tvtYE"
      }
    },
    {
      "cell_type": "code",
      "source": [
        "book_data_clean['Title'] = book_data_clean['Title'].str.lower()\n",
        "book_data_clean['Title'] = book_data_clean['Title'].str.replace(r'[^\\w\\s]', '', regex=True)\n",
        "book_data_clean['Title'] = book_data_clean['Title'].str.replace(' ', '')\n",
        "print(book_data_clean.head())\n",
        "print(book_data_clean.info())"
      ],
      "metadata": {
        "colab": {
          "base_uri": "https://localhost:8080/"
        },
        "id": "lpDZqhuHvxmL",
        "outputId": "84289547-f6b6-4797-b179-81ba1dd1f799"
      },
      "execution_count": 12,
      "outputs": [
        {
          "output_type": "stream",
          "name": "stdout",
          "text": [
            "                     Title         User_id\n",
            "0  itsonlyartifitswellhung   AVCGYZL8FQQTD\n",
            "1      drseussamericanicon  A30TK6U7DNS82R\n",
            "2      drseussamericanicon  A3UH4UZ4RSVO82\n",
            "3      drseussamericanicon  A2MVUWT453QH61\n",
            "4      drseussamericanicon  A22X4XUPKF66MR\n",
            "<class 'pandas.core.frame.DataFrame'>\n",
            "Index: 2438018 entries, 0 to 2999998\n",
            "Data columns (total 2 columns):\n",
            " #   Column   Dtype \n",
            "---  ------   ----- \n",
            " 0   Title    object\n",
            " 1   User_id  object\n",
            "dtypes: object(2)\n",
            "memory usage: 55.8+ MB\n",
            "None\n"
          ]
        }
      ]
    },
    {
      "cell_type": "markdown",
      "source": [
        "### **Setting the Global Variables**"
      ],
      "metadata": {
        "id": "xwm-zlJov6xI"
      }
    },
    {
      "cell_type": "code",
      "source": [
        "B1 = 1_000_003\n",
        "B2 = 999_983\n",
        "HASH1_SEED = 1\n",
        "HASH2_SEED = 2"
      ],
      "metadata": {
        "id": "tIQmvJfwwKTp"
      },
      "execution_count": 13,
      "outputs": []
    },
    {
      "cell_type": "markdown",
      "source": [
        "### **Creation of the Baskets**"
      ],
      "metadata": {
        "id": "rz6VcO3hwM1j"
      }
    },
    {
      "cell_type": "code",
      "source": [
        "df = book_data_clean.copy()\n",
        "\n",
        "user_baskets = (\n",
        "    df.groupby('User_id')['Title']\n",
        "      .apply(lambda s: set(s))\n",
        "      .tolist()\n",
        ")\n",
        "\n",
        "n_baskets = len(user_baskets)\n",
        "print(f\"Unique baskets created {n_baskets}\")"
      ],
      "metadata": {
        "colab": {
          "base_uri": "https://localhost:8080/"
        },
        "id": "ezTfGyefwi6p",
        "outputId": "8c17afb3-11d4-4a4b-eecf-195a862e01d0"
      },
      "execution_count": 14,
      "outputs": [
        {
          "output_type": "stream",
          "name": "stdout",
          "text": [
            "Unique baskets created 1008961\n"
          ]
        }
      ]
    },
    {
      "cell_type": "markdown",
      "source": [
        "### **Utility Functions Definition**"
      ],
      "metadata": {
        "id": "C2QoTsELwsZ9"
      }
    },
    {
      "cell_type": "code",
      "source": [
        "def stable_bucket(tuple_key: bytes, num_buckets: int, seed: int) -> int:\n",
        "    h = hashlib.blake2b(tuple_key, digest_size=8, person=f\"ms{seed:02d}\".encode())\n",
        "    return int.from_bytes(h.digest(), byteorder=\"big\") % num_buckets\n",
        "\n",
        "\n",
        "def tuple_key(items: tuple) -> bytes:\n",
        "    return \"||\".join(items).encode(\"utf-8\")"
      ],
      "metadata": {
        "id": "ciX3Nypowyqw"
      },
      "execution_count": 15,
      "outputs": []
    },
    {
      "cell_type": "markdown",
      "source": [
        "### **The Multistage Algorithm**"
      ],
      "metadata": {
        "id": "yMTSSPxcw34l"
      }
    },
    {
      "cell_type": "code",
      "source": [
        "def multistage_k_itemsets(user_baskets, min_support, k_max=4):\n",
        "\n",
        "    s_abs = max(1, int(min_support * n_baskets))\n",
        "    print(f\"Multistage Algorithm (min_support={min_support}, s_abs={s_abs})\")\n",
        "\n",
        "\n",
        "    item_counts = Counter()\n",
        "    for basket in user_baskets:\n",
        "        for it in basket:\n",
        "            item_counts[it] += 1\n",
        "    frequent_itemsets = set(frozenset([it]) for it, c in item_counts.items() if c >= s_abs)\n",
        "\n",
        "    all_results = []\n",
        "    k = 2\n",
        "\n",
        "\n",
        "    while k <= k_max and frequent_itemsets:\n",
        "        print(f\"Computation for k={k}\")\n",
        "\n",
        "        prev_L = sorted(list(frequent_itemsets), key=lambda fs: tuple(sorted(fs)))\n",
        "        prev_set = set(prev_L)\n",
        "\n",
        "        candidate_sets = set()\n",
        "        len_prev = len(prev_L)\n",
        "        for i in range(len_prev):\n",
        "            for j in range(i+1, len_prev):\n",
        "                l1 = tuple(sorted(prev_L[i]))\n",
        "                l2 = tuple(sorted(prev_L[j]))\n",
        "\n",
        "                if l1[:k-2] == l2[:k-2]:\n",
        "                    cand = frozenset(prev_L[i] | prev_L[j])\n",
        "                    if len(cand) == k:\n",
        "\n",
        "                        subsets = (cand - {x} for x in cand)\n",
        "                        if all(frozenset(sub) in prev_set for sub in subsets):\n",
        "                            candidate_sets.add(cand)\n",
        "                else:\n",
        "                    break\n",
        "\n",
        "        if not candidate_sets:\n",
        "            print(\"0 generated candidates\")\n",
        "            break\n",
        "\n",
        "\n",
        "        bucket_counts_1 = np.zeros(B1, dtype=np.int32)\n",
        "        for basket in user_baskets:\n",
        "            fitems = [it for it in basket if frozenset([it]) in frequent_itemsets]\n",
        "            if len(fitems) < k:\n",
        "                continue\n",
        "            for comb in combinations(sorted(fitems), k):\n",
        "                hk = tuple_key(comb)\n",
        "                bidx = stable_bucket(hk, B1, HASH1_SEED)\n",
        "                bucket_counts_1[bidx] += 1\n",
        "        bitmap1 = bucket_counts_1 >= s_abs\n",
        "\n",
        "\n",
        "        bucket_counts_2 = np.zeros(B2, dtype=np.int32)\n",
        "        for basket in user_baskets:\n",
        "            fitems = [it for it in basket if frozenset([it]) in frequent_itemsets]\n",
        "            if len(fitems) < k:\n",
        "                continue\n",
        "            for comb in combinations(sorted(fitems), k):\n",
        "                hk = tuple_key(comb)\n",
        "                if bitmap1[stable_bucket(hk, B1, HASH1_SEED)]:\n",
        "                    bidx2 = stable_bucket(hk, B2, HASH2_SEED)\n",
        "                    bucket_counts_2[bidx2] += 1\n",
        "        bitmap2 = bucket_counts_2 >= s_abs\n",
        "\n",
        "\n",
        "        counts = defaultdict(int)\n",
        "        for basket in user_baskets:\n",
        "            fitems = [it for it in basket if frozenset([it]) in frequent_itemsets]\n",
        "            if len(fitems) < k:\n",
        "                continue\n",
        "            for comb in combinations(sorted(fitems), k):\n",
        "                hk = tuple_key(comb)\n",
        "                if bitmap1[stable_bucket(hk, B1, HASH1_SEED)] and bitmap2[stable_bucket(hk, B2, HASH2_SEED)]:\n",
        "                    counts[frozenset(comb)] += 1\n",
        "\n",
        "\n",
        "        new_frequent = set(fs for fs, c in counts.items() if c >= s_abs)\n",
        "\n",
        "\n",
        "        result_df = pd.DataFrame([\n",
        "            (tuple(sorted(list(fs))), counts[fs], counts[fs] / n_baskets, k)\n",
        "            for fs in new_frequent\n",
        "        ], columns=[\"itemset\", \"count\", \"support\", \"k\"])\n",
        "\n",
        "\n",
        "        print(f\" Number of frequent itemsets {len(new_frequent)} with dimension {k}.\")\n",
        "        all_results.append(result_df)\n",
        "\n",
        "        frequent_itemsets = new_frequent\n",
        "        k += 1\n",
        "\n",
        "    if not all_results:\n",
        "        return pd.DataFrame(columns=[\"itemset\", \"count\", \"support\", \"k\"])\n",
        "    return pd.concat(all_results, ignore_index=True)\n"
      ],
      "metadata": {
        "id": "pWyC0nJkxO78"
      },
      "execution_count": 16,
      "outputs": []
    },
    {
      "cell_type": "markdown",
      "source": [
        "### **Experimental Results**"
      ],
      "metadata": {
        "id": "SXPsOVvJy9av"
      }
    },
    {
      "cell_type": "code",
      "source": [
        "support_thresholds = [0.0005, 0.001, 0.002, 0.005, 0.01, 0.02, 0.05]\n",
        "results_summary = []\n",
        "\n",
        "for sup in support_thresholds:\n",
        "    df_res = multistage_k_itemsets(user_baskets, sup, k_max=4)\n",
        "    counts_by_k = df_res.groupby(\"k\").size().to_dict()\n",
        "    results_summary.append({\n",
        "        \"min_support\": sup,\n",
        "        \"k=2\": counts_by_k.get(2, 0),\n",
        "        \"k=3\": counts_by_k.get(3, 0),\n",
        "        \"k=4\": counts_by_k.get(4, 0)\n",
        "    })\n",
        "\n",
        "summary_df = pd.DataFrame(results_summary)\n",
        "print(\"Summary Table\")\n",
        "print(summary_df)"
      ],
      "metadata": {
        "colab": {
          "base_uri": "https://localhost:8080/"
        },
        "id": "Ws47Q-S0zIvt",
        "outputId": "484de412-e12c-4eb7-a7ec-d4ec1da0e8b2"
      },
      "execution_count": 17,
      "outputs": [
        {
          "output_type": "stream",
          "name": "stdout",
          "text": [
            "Multistage Algorithm (min_support=0.0005, s_abs=504)\n",
            "Computation for k=2\n",
            " Number of frequent itemsets 315 with dimension 2.\n",
            "Computation for k=3\n",
            " Number of frequent itemsets 0 with dimension 3.\n",
            "Multistage Algorithm (min_support=0.001, s_abs=1008)\n",
            "Computation for k=2\n",
            " Number of frequent itemsets 78 with dimension 2.\n",
            "Computation for k=3\n",
            " Number of frequent itemsets 0 with dimension 3.\n",
            "Multistage Algorithm (min_support=0.002, s_abs=2017)\n",
            "Computation for k=2\n",
            " Number of frequent itemsets 7 with dimension 2.\n",
            "Computation for k=3\n",
            " Number of frequent itemsets 0 with dimension 3.\n",
            "Multistage Algorithm (min_support=0.005, s_abs=5044)\n",
            "Multistage Algorithm (min_support=0.01, s_abs=10089)\n",
            "Multistage Algorithm (min_support=0.02, s_abs=20179)\n",
            "Multistage Algorithm (min_support=0.05, s_abs=50448)\n",
            "Summary Table\n",
            "   min_support  k=2  k=3  k=4\n",
            "0       0.0005  315    0    0\n",
            "1       0.0010   78    0    0\n",
            "2       0.0020    7    0    0\n",
            "3       0.0050    0    0    0\n",
            "4       0.0100    0    0    0\n",
            "5       0.0200    0    0    0\n",
            "6       0.0500    0    0    0\n"
          ]
        }
      ]
    }
  ]
}